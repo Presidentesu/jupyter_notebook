{
 "cells": [
  {
   "cell_type": "markdown",
   "id": "2b62f2d0-f692-47bd-a937-8cbd407a5788",
   "metadata": {},
   "source": [
    "<h2>what this notebook shows</h2>"
   ]
  },
  {
   "cell_type": "markdown",
   "id": "d2daccd2-e159-4c39-8dee-3d54c46e0334",
   "metadata": {},
   "source": [
    "1. how to get started with notebooks\n",
    "2. how to excute code how to add markdown\n",
    "3. how to execute code\n",
    "4. and other"
   ]
  },
  {
   "cell_type": "code",
   "execution_count": 2,
   "id": "81e03726-e019-4e84-a9d5-5003113f9d65",
   "metadata": {},
   "outputs": [],
   "source": [
    "x = 5\n",
    "y = 6\n",
    "w = x + y"
   ]
  },
  {
   "cell_type": "code",
   "execution_count": 3,
   "id": "0b185a23-fca5-4bbb-ae67-854f13b549c1",
   "metadata": {},
   "outputs": [
    {
     "data": {
      "text/plain": [
       "11"
      ]
     },
     "execution_count": 3,
     "metadata": {},
     "output_type": "execute_result"
    }
   ],
   "source": [
    "w"
   ]
  },
  {
   "cell_type": "code",
   "execution_count": null,
   "id": "d98b0dcd-80af-4157-aea5-07baf2a7c9c8",
   "metadata": {},
   "outputs": [],
   "source": [
    "%matplotlib inline"
   ]
  },
  {
   "cell_type": "code",
   "execution_count": null,
   "id": "0c8e1cfa-b648-490f-a0dd-289e93eeadac",
   "metadata": {},
   "outputs": [],
   "source": [
    "import numpy as np\n",
    "import matplotlib.pyplot as plt\n",
    "\n",
    "N = 50\n",
    "x = np.random.rand(N)\n",
    "y = np.random.rand(N)\n",
    "colors = np.random.rand(N)\n",
    "area = np.pi * (15 * np.random.rand(N))**2\n",
    "plt.scatter(x,y, )"
   ]
  }
 ],
 "metadata": {
  "kernelspec": {
   "display_name": "Python 3 (ipykernel)",
   "language": "python",
   "name": "python3"
  },
  "language_info": {
   "codemirror_mode": {
    "name": "ipython",
    "version": 3
   },
   "file_extension": ".py",
   "mimetype": "text/x-python",
   "name": "python",
   "nbconvert_exporter": "python",
   "pygments_lexer": "ipython3",
   "version": "3.11.4"
  }
 },
 "nbformat": 4,
 "nbformat_minor": 5
}
